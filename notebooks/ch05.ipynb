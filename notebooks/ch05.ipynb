{
 "cells": [
  {
   "cell_type": "code",
   "execution_count": null,
   "metadata": {
    "scrolled": false
   },
   "outputs": [],
   "source": [
    "import pandas as pd\n",
    "from pandas import Series, DataFrame\n",
    "import numpy as np"
   ]
  },
  {
   "cell_type": "markdown",
   "metadata": {},
   "source": [
    "# 5.1 pandas的数据结构介绍"
   ]
  },
  {
   "cell_type": "markdown",
   "metadata": {},
   "source": [
    "## 5.1.1 Series"
   ]
  },
  {
   "cell_type": "markdown",
   "metadata": {},
   "source": [
    "### 创建"
   ]
  },
  {
   "cell_type": "code",
   "execution_count": null,
   "metadata": {
    "scrolled": false
   },
   "outputs": [],
   "source": [
    "# 创建\n",
    "s1 = pd.Series([1, 2, -4, 5])"
   ]
  },
  {
   "cell_type": "code",
   "execution_count": null,
   "metadata": {},
   "outputs": [],
   "source": [
    "# 指定index创建\n",
    "s2 = pd.Series([1, 2, -4, 5], index = ['a', 'b', 'd', 's'], name='s2')"
   ]
  },
  {
   "cell_type": "code",
   "execution_count": null,
   "metadata": {},
   "outputs": [],
   "source": [
    "# 使用字典创建时，会按照key排序??这里运行结果没有排序，还是sdata中的与原顺序，跟书不一样！！\n",
    "sdata = {'Ohio': 35000, 'Texas': 71000, 'Oregon': 16000, 'Utah': 5000}\n",
    "s3 = pd.Series(sdata)\n",
    "s3"
   ]
  },
  {
   "cell_type": "code",
   "execution_count": null,
   "metadata": {},
   "outputs": [],
   "source": [
    "# 当传入的index里面的值跟sdata的keys不一样时，以index为准，sdata没有的填NaN，sdata多余的丢弃\n",
    "states = ['California', 'Ohio', 'Oregon', 'Texas']\n",
    "s4 = pd.Series(sdata, index=states)\n",
    "s4"
   ]
  },
  {
   "cell_type": "markdown",
   "metadata": {},
   "source": [
    "### 取值赋值"
   ]
  },
  {
   "cell_type": "code",
   "execution_count": null,
   "metadata": {},
   "outputs": [],
   "source": [
    "# 取values和index\n",
    "s2.values, s2.index"
   ]
  },
  {
   "cell_type": "code",
   "execution_count": null,
   "metadata": {},
   "outputs": [],
   "source": [
    "# 修改name\n",
    "s2.name = 's2_new'\n",
    "s2.index.name = 's2_index'\n",
    "s2"
   ]
  },
  {
   "cell_type": "code",
   "execution_count": null,
   "metadata": {},
   "outputs": [],
   "source": [
    "# 修改index\n",
    "s2.index = ['x', 'y', 'z', 't']\n",
    "s2"
   ]
  },
  {
   "cell_type": "code",
   "execution_count": null,
   "metadata": {},
   "outputs": [],
   "source": [
    "# 取单个值，注意不能用.取值，只能用[]\n",
    "s2['x']\n",
    "# list取值\n",
    "s2[['x', 'y']]\n",
    "# 赋值\n",
    "s2['t'] = 10\n",
    "# list赋值\n",
    "s2[['x', 'y']] = [3, 4]\n",
    "s2"
   ]
  },
  {
   "cell_type": "code",
   "execution_count": null,
   "metadata": {},
   "outputs": [],
   "source": [
    "# 使用del可以删除某个值\n",
    "del s2['x']\n",
    "s2"
   ]
  },
  {
   "cell_type": "markdown",
   "metadata": {},
   "source": [
    "### 运算"
   ]
  },
  {
   "cell_type": "code",
   "execution_count": null,
   "metadata": {},
   "outputs": [],
   "source": [
    "# bool数组索引\n",
    "s2[s2 > 0]"
   ]
  },
  {
   "cell_type": "code",
   "execution_count": null,
   "metadata": {},
   "outputs": [],
   "source": [
    "# 元素级的运算\n",
    "s2 * 2"
   ]
  },
  {
   "cell_type": "code",
   "execution_count": null,
   "metadata": {},
   "outputs": [],
   "source": [
    "# 应用numpy函数\n",
    "np.exp(s2)"
   ]
  },
  {
   "cell_type": "code",
   "execution_count": null,
   "metadata": {},
   "outputs": [],
   "source": [
    "# 元素级加法时，会自动对齐，Nan会传播\n",
    "s3 + s4"
   ]
  },
  {
   "cell_type": "markdown",
   "metadata": {},
   "source": [
    "### 判断空，存在性"
   ]
  },
  {
   "cell_type": "code",
   "execution_count": null,
   "metadata": {},
   "outputs": [],
   "source": [
    "# 将Series当做固定长度有序的dict，可以使用in\n",
    "'a' in s2"
   ]
  },
  {
   "cell_type": "code",
   "execution_count": null,
   "metadata": {},
   "outputs": [],
   "source": [
    "# 判断非空,问题: isna和isnull的区别?\n",
    "pd.isnull(s2), pd.notnull(s2)"
   ]
  },
  {
   "cell_type": "code",
   "execution_count": null,
   "metadata": {},
   "outputs": [],
   "source": [
    "# 使用实例方法\n",
    "s2.isnull(), s2.notnull()"
   ]
  },
  {
   "cell_type": "markdown",
   "metadata": {},
   "source": [
    "## 5.1.2 DataFrame"
   ]
  },
  {
   "cell_type": "markdown",
   "metadata": {},
   "source": [
    "###  创建"
   ]
  },
  {
   "cell_type": "code",
   "execution_count": null,
   "metadata": {},
   "outputs": [],
   "source": [
    "# 等长list的dict创建\n",
    "data = {'state': ['Ohio', 'Ohio', 'Ohio', 'Nevada', 'Nevada', 'Nevada'],\n",
    "        'year': [2000, 2001, 2002, 2001, 2002, 2003],\n",
    "        'pop': [1.5, 1.7, 3.6, 2.4, 2.9, 3.2]}\n",
    "df1 = pd.DataFrame(data)"
   ]
  },
  {
   "cell_type": "code",
   "execution_count": null,
   "metadata": {},
   "outputs": [],
   "source": [
    "# 指定columns和index\n",
    "df2 = pd.DataFrame(data, columns=['pop', 'state', 'year', 'empty1', '1'], index = range(3, 9))\n",
    "df2"
   ]
  },
  {
   "cell_type": "code",
   "execution_count": null,
   "metadata": {},
   "outputs": [],
   "source": [
    "# 使用嵌套字典创建，外层为列名，内层为index，index会重新排序\n",
    "pop = {'Ohio': {2002: 2.4, 2001: 2.9}, 'Nevada': {2002: 1.5, 2001: 1.7, 2000: 3.6}}\n",
    "df3 = pd.DataFrame(pop)\n",
    "df3"
   ]
  },
  {
   "cell_type": "code",
   "execution_count": null,
   "metadata": {},
   "outputs": [],
   "source": [
    "# 指定index以后不会重新排序\n",
    "# 照抄书居然会报错：'list' object has no attribute 'astype'\n",
    "# 嵌套字典初始化时不再支持指定index？\n",
    "# pop = {'Nevada': {2001: 2.4, 2002: 2.9}, 'Ohio': {2000: 1.5, 2001: 1.7, 2002: 3.6}}\n",
    "# df4 = pd.DataFrame(pop, index = [2001, 2002, 2003])\n",
    "# df4"
   ]
  },
  {
   "cell_type": "code",
   "execution_count": null,
   "metadata": {
    "scrolled": true
   },
   "outputs": [],
   "source": [
    "# Series的字典来构造\n",
    "pdata = {'Ohio': df3['Ohio'][:-1], 'Nevada': df3['Nevada'][:2]}\n",
    "df5 = pd.DataFrame(pdata)\n",
    "df5"
   ]
  },
  {
   "cell_type": "markdown",
   "metadata": {},
   "source": [
    "![title](../images/table_5-1.jpg)"
   ]
  },
  {
   "cell_type": "markdown",
   "metadata": {},
   "source": [
    "### 取值赋值"
   ]
  },
  {
   "cell_type": "code",
   "execution_count": null,
   "metadata": {},
   "outputs": [],
   "source": [
    "# 取前几行\n",
    "df2.head(3)"
   ]
  },
  {
   "cell_type": "code",
   "execution_count": null,
   "metadata": {},
   "outputs": [],
   "source": [
    "# 取columns\n",
    "df2.columns\n",
    "# 取index\n",
    "df2.index"
   ]
  },
  {
   "cell_type": "code",
   "execution_count": null,
   "metadata": {},
   "outputs": [],
   "source": [
    "# values返回一个二维的ndarray\n",
    "df2.values"
   ]
  },
  {
   "cell_type": "code",
   "execution_count": null,
   "metadata": {},
   "outputs": [],
   "source": [
    "# 修改name\n",
    "# df2本身没有name属性\n",
    "df2.index.name = 'df2_index'\n",
    "df2.columns.name = 'df2_columns'\n",
    "df2"
   ]
  },
  {
   "cell_type": "code",
   "execution_count": null,
   "metadata": {},
   "outputs": [],
   "source": [
    "# []取值，取列，返回一个相同index的Series，并且本身的name和index的name已经设置好\n",
    "df2['pop']"
   ]
  },
  {
   "cell_type": "code",
   "execution_count": null,
   "metadata": {},
   "outputs": [],
   "source": [
    "# 用.取值，只有列名是合法的python变量名才能用这种方式，结果同[]取值\n",
    "# 比如df2.1会报错，只能用df2['1']\n",
    "df2.empty1"
   ]
  },
  {
   "cell_type": "code",
   "execution_count": null,
   "metadata": {},
   "outputs": [],
   "source": [
    "# 使用loc加方括号取值，取某一行，\n",
    "df2.loc[3]"
   ]
  },
  {
   "cell_type": "code",
   "execution_count": null,
   "metadata": {},
   "outputs": [],
   "source": [
    "# 赋值，使用[]或者.赋值\n",
    "# 赋值标量\n",
    "df2['1'] = 5\n",
    "# 赋值等长list、range对象、np.arange对象时，长度必须匹配\n",
    "df2.empty1 = ['a1', 'a2', 'a3', 'a4', 'a5', 'a6']\n",
    "df2.empty1 = range(6)\n",
    "df2.empty1 = np.arange(6)\n",
    "# 赋值Series对象时，会匹配index，多余的index忽视，不包含的填NaN\n",
    "df2.empty1 = pd.Series([1, 2, 3, 4], index = [2, 3, 5, 10])\n",
    "df2"
   ]
  },
  {
   "cell_type": "code",
   "execution_count": null,
   "metadata": {},
   "outputs": [],
   "source": [
    "# 使用[]直接添加新的列\n",
    "df2['eastern'] = df2.state == 'Ohio'\n",
    "# 用.添加不能添加新列，不会报错，但不起作用\n",
    "df2.c = 4"
   ]
  },
  {
   "cell_type": "code",
   "execution_count": null,
   "metadata": {},
   "outputs": [],
   "source": [
    "# loc加[]同样可以对某一行赋值\n",
    "df2.loc[3] = 5"
   ]
  },
  {
   "cell_type": "code",
   "execution_count": null,
   "metadata": {},
   "outputs": [],
   "source": [
    "# loc加[]直接添加新的行\n",
    "df2.loc['new_index'] = 3\n",
    "df2"
   ]
  },
  {
   "cell_type": "code",
   "execution_count": null,
   "metadata": {},
   "outputs": [],
   "source": [
    "# 删除某一列，可以用[],不能用.\n",
    "del df2['empty1']\n",
    "# 不能用loc删除行，报错：AttributeError: __delitem__\n",
    "# del df2.loc[3]\n",
    "# 可以使用drop函数，领inplace=True来删除行"
   ]
  },
  {
   "cell_type": "markdown",
   "metadata": {},
   "source": [
    "### 判断空、存在性、其他操作"
   ]
  },
  {
   "cell_type": "code",
   "execution_count": null,
   "metadata": {},
   "outputs": [],
   "source": [
    "# empty操作，当行或者列是空的时候，empty为true\n",
    "d = pd.DataFrame([], columns=['a', 'b'])\n",
    "d1 = pd.DataFrame([], index = [1, 2])\n",
    "d1.empty"
   ]
  },
  {
   "cell_type": "code",
   "execution_count": null,
   "metadata": {},
   "outputs": [],
   "source": [
    "# 用in判断列名是否包含\n",
    "'pop' in df2"
   ]
  },
  {
   "cell_type": "code",
   "execution_count": null,
   "metadata": {},
   "outputs": [],
   "source": [
    "# 判断列或行是否包含\n",
    "'pop' in df2.columns\n",
    "5 in df2.index"
   ]
  },
  {
   "cell_type": "code",
   "execution_count": null,
   "metadata": {},
   "outputs": [],
   "source": [
    "# 转置\n",
    "df2.T"
   ]
  },
  {
   "cell_type": "markdown",
   "metadata": {},
   "source": [
    "## 5.1.3 Index Objects（索引对象）"
   ]
  },
  {
   "cell_type": "code",
   "execution_count": null,
   "metadata": {},
   "outputs": [],
   "source": [
    "# index可以当成序列使用，比如分片\n",
    "index = s2.index\n",
    "index[2:]"
   ]
  },
  {
   "cell_type": "code",
   "execution_count": null,
   "metadata": {},
   "outputs": [],
   "source": [
    "# index是不可修改的，因为可以在不同的结构中共享index\n",
    "labels = pd.Index(np.arange(3))\n",
    "s = pd.Series([1, 3, 2.3], index = labels)\n",
    "s.index is labels"
   ]
  },
  {
   "cell_type": "code",
   "execution_count": null,
   "metadata": {},
   "outputs": [],
   "source": [
    "# index里面的元素可以重复\n",
    "index2 = pd.Index(['a1', 'a1', 'a2'])\n",
    "# 当选择a1时会把所有的都选出来\n",
    "s = pd.Series([1, 2, 3], index = index2)\n",
    "s['a1']"
   ]
  },
  {
   "cell_type": "markdown",
   "metadata": {},
   "source": [
    "![title](../images/table_5-2.jpg)"
   ]
  },
  {
   "cell_type": "markdown",
   "metadata": {},
   "source": [
    "# 5.2 基本功能"
   ]
  },
  {
   "cell_type": "markdown",
   "metadata": {},
   "source": [
    "## 5.2.1 Reindexing（重新索引）\n",
    "reindex的作用是使用原来的数据构造一个新的Series或者DataFrame，但是index或者columns不同。不存在的数据会自动填nan"
   ]
  },
  {
   "cell_type": "code",
   "execution_count": null,
   "metadata": {},
   "outputs": [],
   "source": [
    "# reindex将使用新的index重排，不存在的值填nan\n",
    "obj = pd.Series([4.5, 7.2, -5.3, 3.6], index=['d', 'b', 'a', 'c'])\n",
    "obj.reindex(['a', 'b', 'c', 'd', 'e'])"
   ]
  },
  {
   "cell_type": "code",
   "execution_count": null,
   "metadata": {},
   "outputs": [],
   "source": [
    "# 对于时间序列这样的有序数据，reindex时可能需要做插值，method参数可以达到这个目的\n",
    "# ffill实现向前填充\n",
    "obj3 = pd.Series(['blue', 'purple', 'yellow'], index=[0, 2, 4])\n",
    "obj3.reindex(range(6), method = 'ffill')"
   ]
  },
  {
   "cell_type": "code",
   "execution_count": null,
   "metadata": {},
   "outputs": [],
   "source": [
    "# DataFrame可以reindex行，列或者同时reindex\n",
    "frame = pd.DataFrame(np.arange(12).reshape(4, 3), index = ['a', 'b', 'c', 'd'], columns=['c1', 'c2', 'c3'])\n",
    "# 当只传一个list时，reindex的对象是行（也就是原来的index）\n",
    "# 因为index多了'e'，填充nan，所以原来的int32变成了float\n",
    "frame.reindex(['a', 'd', 'e', 'b', 'c'])\n",
    "# 增加axis参数1，可以reindex列\n",
    "frame.reindex(['c1', 'c3', 'c2'], axis=1)\n",
    "# 或者使用columns参数来reindex列\n",
    "frame.reindex(columns = ['c1', 'c3', 'c2'])\n",
    "# 同时reindex行和列\n",
    "frame.reindex(['a', 'd', 'e', 'b', 'c'], columns = ['c1', 'c3', 'c2'])"
   ]
  },
  {
   "cell_type": "markdown",
   "metadata": {},
   "source": [
    "![title](../images/table_5-3.jpg)"
   ]
  },
  {
   "cell_type": "code",
   "execution_count": null,
   "metadata": {},
   "outputs": [],
   "source": [
    "# 使用loc来更简单的实现reindex\n",
    "# 会报FutureWarning！！！还是应该使用reindex来更好理解\n",
    "# frame.loc[['a', 'd', 'e', 'b', 'c'], ['c1', 'c3', 'c2']]"
   ]
  },
  {
   "cell_type": "markdown",
   "metadata": {},
   "source": [
    "## 5.2.2 Dropping Entries from an Axis（丢弃指定轴上的项）\n",
    "drop函数返回的是新对象,del是原地删除"
   ]
  },
  {
   "cell_type": "code",
   "execution_count": null,
   "metadata": {},
   "outputs": [],
   "source": [
    "obj = pd.Series(np.arange(5.), index=['a', 'b', 'c', 'd', 'e'])\n",
    "# del是原地删除，只能删除一个值\n",
    "del obj['a']\n",
    "# drop删除一个值或者一个list里面的所有值\n",
    "obj.drop('b')\n",
    "obj.drop(['b', 'c'])\n",
    "obj"
   ]
  },
  {
   "cell_type": "code",
   "execution_count": null,
   "metadata": {},
   "outputs": [],
   "source": [
    "# DataFrame可以删除任一轴上的值\n",
    "data = pd.DataFrame(np.arange(16).reshape(4, 4), \n",
    "                    index=['Ohio', 'Colorado', 'Utah', 'New York'],\n",
    "                    columns=['one', 'two', 'three', 'four'])\n",
    "# drop默认删除的是行的元素\n",
    "data.drop('Ohio')\n",
    "data.drop(['Ohio', 'Colorado'])\n",
    "# 传递axis=1或者axis='columns'，可以删除列\n",
    "data.drop('one', axis=1)\n",
    "data.drop(['one', 'three'], axis='columns')"
   ]
  },
  {
   "cell_type": "code",
   "execution_count": null,
   "metadata": {},
   "outputs": [],
   "source": [
    "# 许多函数，比如drop，会改变Series或者DataFrame的size或者shape，默认是会返回新的对象\n",
    "# 但是可以指定inplace=True来原地修改\n",
    "# 小心使用inplace，它会销毁所有被删除的数据\n",
    "obj = pd.Series(np.arange(5.), index=['a', 'b', 'c', 'd', 'e'])\n",
    "obj.drop('c', inplace=True)\n",
    "obj"
   ]
  },
  {
   "cell_type": "markdown",
   "metadata": {},
   "source": [
    "## 5.2.3 Indexing, Selection, and Filtering（索引、选取和过滤）"
   ]
  },
  {
   "cell_type": "code",
   "execution_count": null,
   "metadata": {},
   "outputs": [],
   "source": [
    "# Series索引类似于Numpy的索引，可以是数字或者标签\n",
    "obj = pd.Series(np.arange(4.), index=['a', 'b', 'c', 'd'])\n",
    "# 单个索引\n",
    "obj['b']\n",
    "obj[1]\n",
    "# list索引\n",
    "obj[['b', 'c']]\n",
    "obj[[1, 3, 2]]\n",
    "# 分片索引\n",
    "obj[2:4]\n",
    "obj['b':'d']  # 标签的分片索引会包含末端\n",
    "# boolean Series索引\n",
    "obj[obj < 2]"
   ]
  },
  {
   "cell_type": "code",
   "execution_count": null,
   "metadata": {},
   "outputs": [],
   "source": [
    "# 以上索引方式都可以用来赋值\n",
    "obj[['b', 'c']] = [10, 11]\n",
    "obj[2:4] = 3"
   ]
  },
  {
   "cell_type": "code",
   "execution_count": null,
   "metadata": {},
   "outputs": [],
   "source": [
    "# DataFrame默认[]索引是列，只能是标签索引，不能是数字，也不能是分片\n",
    "data = pd.DataFrame(np.arange(16).reshape(4, 4), \n",
    "                    index=['Ohio', 'Colorado', 'Utah', 'New York'],\n",
    "                    columns=['one', 'two', 'three', 'four'])\n",
    "data['one']  # 只有一个时，返回的是Series\n",
    "data[['one', 'three', 'two']]  # 是list时，返回DataFrame\n",
    "# data[1]    # 数字会报错\n",
    "# data['one':'three']    # 分片索引也不行"
   ]
  },
  {
   "cell_type": "code",
   "execution_count": null,
   "metadata": {},
   "outputs": [],
   "source": [
    "# 当使用数字分片索引时，是取的行，始终返回DataFrame\n",
    "data[1:2]  \n",
    "data[0:3]"
   ]
  },
  {
   "cell_type": "code",
   "execution_count": null,
   "metadata": {},
   "outputs": [],
   "source": [
    "# 当使用bool Series来索引时，会匹配行"
   ]
  },
  {
   "cell_type": "code",
   "execution_count": null,
   "metadata": {},
   "outputs": [],
   "source": [
    "data[['one', 'three']] > 5"
   ]
  },
  {
   "cell_type": "code",
   "execution_count": null,
   "metadata": {},
   "outputs": [],
   "source": [
    "# bool数组索引时，也是按行来判断的\n",
    "tag = data['three'] > 5\n",
    "data[tag]"
   ]
  },
  {
   "cell_type": "code",
   "execution_count": null,
   "metadata": {},
   "outputs": [],
   "source": [
    "# bool数组索引时，也是按行来判断的\n",
    "tag = data[['one', 'three']] > 5\n",
    "tag\n",
    "data[tag]"
   ]
  },
  {
   "cell_type": "code",
   "execution_count": null,
   "metadata": {},
   "outputs": [],
   "source": [
    "data[1:2] > 5"
   ]
  },
  {
   "cell_type": "code",
   "execution_count": null,
   "metadata": {},
   "outputs": [],
   "source": [
    "data[data[1:2] > 5]"
   ]
  },
  {
   "cell_type": "code",
   "execution_count": null,
   "metadata": {},
   "outputs": [],
   "source": []
  }
 ],
 "metadata": {
  "kernelspec": {
   "display_name": "Python 3",
   "language": "python",
   "name": "python3"
  },
  "language_info": {
   "codemirror_mode": {
    "name": "ipython",
    "version": 3
   },
   "file_extension": ".py",
   "mimetype": "text/x-python",
   "name": "python",
   "nbconvert_exporter": "python",
   "pygments_lexer": "ipython3",
   "version": "3.6.5"
  }
 },
 "nbformat": 4,
 "nbformat_minor": 2
}
